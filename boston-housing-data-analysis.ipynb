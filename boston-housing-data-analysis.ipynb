{
 "cells": [
  {
   "cell_type": "markdown",
   "metadata": {
    "colab_type": "text",
    "id": "tixMQpz56WmI"
   },
   "source": [
    "# **About the dataset:**\n",
    "\n",
    "This dataset contains information collected by the U.S Census Service concerning housing in the area of Boston Mass.\n",
    "\n",
    "There are 14 attributes in each case of the dataset. They are:\n",
    "\n",
    "* CRIM - per capita crime rate by town\n",
    "* ZN - proportion of residential land zoned for lots over 25,000 sq.ft.\n",
    "* INDUS - proportion of non-retail business acres per town.\n",
    "* CHAS - Charles River dummy variable (1 if tract bounds river; 0 otherwise)\n",
    "* NOX - nitric oxides concentration (parts per 10 million)\n",
    "* RM - average number of rooms per dwelling\n",
    "* AGE - proportion of owner-occupied units built prior to 1940\n",
    "* DIS - weighted distances to five Boston employment centres\n",
    "* RAD - index of accessibility to radial highways\n",
    "* TAX - full-value property-tax rate per \\$10,000\n",
    "* PTRATIO - pupil-teacher ratio by town\n",
    "* B - 1000(Bk - 0.63)^2 where Bk is the proportion of blacks by town\n",
    "* LSTAT - % lower status of the population\n",
    "* MEDV - Median value of owner-occupied homes in $1000's\n",
    "\n",
    "Variable #14 seems to be censored at 50.00 (corresponding to a median price of \\$50,000); Censoring is suggested by the fact that the highest median price of exactly \\$50,000 is reported in 16 cases, while 15 cases have prices between \\$40,000 and $50,000, with prices rounded to the nearest hundred.\n",
    "\n",
    "Our goal is to select the valiables which predicts the MEDV best, also to suggest a machine learning model to predict MEDV."
   ]
  },
  {
   "cell_type": "code",
   "execution_count": 1,
   "metadata": {
    "colab": {},
    "colab_type": "code",
    "id": "K2gSpAEy5DVa"
   },
   "outputs": [],
   "source": [
    "#importing libraries\n",
    "import numpy as np\n",
    "import pandas as pd\n",
    "import matplotlib.pyplot as plt\n",
    "import seaborn as sns\n",
    "import statsmodels.api as sm\n",
    "from scipy.stats import pearsonr\n",
    "from sklearn.model_selection import train_test_split as tts\n",
    "from sklearn.linear_model import LinearRegression as lr\n",
    "from sklearn.preprocessing import PolynomialFeatures\n",
    "from sklearn.svm import SVR\n",
    "from sklearn.ensemble import RandomForestRegressor\n",
    "from sklearn.neighbors import KNeighborsRegressor\n",
    "from sklearn.model_selection import cross_val_score as cvs"
   ]
  },
  {
   "cell_type": "code",
   "execution_count": 2,
   "metadata": {
    "colab": {},
    "colab_type": "code",
    "id": "WHlOzWcPOKoh"
   },
   "outputs": [],
   "source": [
    "#importing dataset\n",
    "column_names = ['CRIM', 'ZN', 'INDUS', 'CHAS', 'NOX', 'RM', 'AGE', 'DIS', 'RAD', 'TAX', 'PTRATIO', 'B', 'LSTAT', 'MEDV']\n",
    "dataset = pd.read_csv('housing.csv', delimiter=r'\\s+', names=column_names)"
   ]
  },
  {
   "cell_type": "code",
   "execution_count": 3,
   "metadata": {
    "colab": {
     "base_uri": "https://localhost:8080/",
     "height": 204
    },
    "colab_type": "code",
    "id": "fiAqUL_sOYpu",
    "outputId": "5002fbe8-380c-447e-94ad-e4851db07bcd"
   },
   "outputs": [
    {
     "data": {
      "text/html": [
       "<div>\n",
       "<style scoped>\n",
       "    .dataframe tbody tr th:only-of-type {\n",
       "        vertical-align: middle;\n",
       "    }\n",
       "\n",
       "    .dataframe tbody tr th {\n",
       "        vertical-align: top;\n",
       "    }\n",
       "\n",
       "    .dataframe thead th {\n",
       "        text-align: right;\n",
       "    }\n",
       "</style>\n",
       "<table border=\"1\" class=\"dataframe\">\n",
       "  <thead>\n",
       "    <tr style=\"text-align: right;\">\n",
       "      <th></th>\n",
       "      <th>CRIM</th>\n",
       "      <th>ZN</th>\n",
       "      <th>INDUS</th>\n",
       "      <th>CHAS</th>\n",
       "      <th>NOX</th>\n",
       "      <th>RM</th>\n",
       "      <th>AGE</th>\n",
       "      <th>DIS</th>\n",
       "      <th>RAD</th>\n",
       "      <th>TAX</th>\n",
       "      <th>PTRATIO</th>\n",
       "      <th>B</th>\n",
       "      <th>LSTAT</th>\n",
       "      <th>MEDV</th>\n",
       "    </tr>\n",
       "  </thead>\n",
       "  <tbody>\n",
       "    <tr>\n",
       "      <th>0</th>\n",
       "      <td>0.00632</td>\n",
       "      <td>18.0</td>\n",
       "      <td>2.31</td>\n",
       "      <td>0</td>\n",
       "      <td>0.538</td>\n",
       "      <td>6.575</td>\n",
       "      <td>65.2</td>\n",
       "      <td>4.0900</td>\n",
       "      <td>1</td>\n",
       "      <td>296.0</td>\n",
       "      <td>15.3</td>\n",
       "      <td>396.90</td>\n",
       "      <td>4.98</td>\n",
       "      <td>24.0</td>\n",
       "    </tr>\n",
       "    <tr>\n",
       "      <th>1</th>\n",
       "      <td>0.02731</td>\n",
       "      <td>0.0</td>\n",
       "      <td>7.07</td>\n",
       "      <td>0</td>\n",
       "      <td>0.469</td>\n",
       "      <td>6.421</td>\n",
       "      <td>78.9</td>\n",
       "      <td>4.9671</td>\n",
       "      <td>2</td>\n",
       "      <td>242.0</td>\n",
       "      <td>17.8</td>\n",
       "      <td>396.90</td>\n",
       "      <td>9.14</td>\n",
       "      <td>21.6</td>\n",
       "    </tr>\n",
       "    <tr>\n",
       "      <th>2</th>\n",
       "      <td>0.02729</td>\n",
       "      <td>0.0</td>\n",
       "      <td>7.07</td>\n",
       "      <td>0</td>\n",
       "      <td>0.469</td>\n",
       "      <td>7.185</td>\n",
       "      <td>61.1</td>\n",
       "      <td>4.9671</td>\n",
       "      <td>2</td>\n",
       "      <td>242.0</td>\n",
       "      <td>17.8</td>\n",
       "      <td>392.83</td>\n",
       "      <td>4.03</td>\n",
       "      <td>34.7</td>\n",
       "    </tr>\n",
       "    <tr>\n",
       "      <th>3</th>\n",
       "      <td>0.03237</td>\n",
       "      <td>0.0</td>\n",
       "      <td>2.18</td>\n",
       "      <td>0</td>\n",
       "      <td>0.458</td>\n",
       "      <td>6.998</td>\n",
       "      <td>45.8</td>\n",
       "      <td>6.0622</td>\n",
       "      <td>3</td>\n",
       "      <td>222.0</td>\n",
       "      <td>18.7</td>\n",
       "      <td>394.63</td>\n",
       "      <td>2.94</td>\n",
       "      <td>33.4</td>\n",
       "    </tr>\n",
       "    <tr>\n",
       "      <th>4</th>\n",
       "      <td>0.06905</td>\n",
       "      <td>0.0</td>\n",
       "      <td>2.18</td>\n",
       "      <td>0</td>\n",
       "      <td>0.458</td>\n",
       "      <td>7.147</td>\n",
       "      <td>54.2</td>\n",
       "      <td>6.0622</td>\n",
       "      <td>3</td>\n",
       "      <td>222.0</td>\n",
       "      <td>18.7</td>\n",
       "      <td>396.90</td>\n",
       "      <td>5.33</td>\n",
       "      <td>36.2</td>\n",
       "    </tr>\n",
       "  </tbody>\n",
       "</table>\n",
       "</div>"
      ],
      "text/plain": [
       "      CRIM    ZN  INDUS  CHAS    NOX     RM   AGE     DIS  RAD    TAX  \\\n",
       "0  0.00632  18.0   2.31     0  0.538  6.575  65.2  4.0900    1  296.0   \n",
       "1  0.02731   0.0   7.07     0  0.469  6.421  78.9  4.9671    2  242.0   \n",
       "2  0.02729   0.0   7.07     0  0.469  7.185  61.1  4.9671    2  242.0   \n",
       "3  0.03237   0.0   2.18     0  0.458  6.998  45.8  6.0622    3  222.0   \n",
       "4  0.06905   0.0   2.18     0  0.458  7.147  54.2  6.0622    3  222.0   \n",
       "\n",
       "   PTRATIO       B  LSTAT  MEDV  \n",
       "0     15.3  396.90   4.98  24.0  \n",
       "1     17.8  396.90   9.14  21.6  \n",
       "2     17.8  392.83   4.03  34.7  \n",
       "3     18.7  394.63   2.94  33.4  \n",
       "4     18.7  396.90   5.33  36.2  "
      ]
     },
     "execution_count": 3,
     "metadata": {},
     "output_type": "execute_result"
    }
   ],
   "source": [
    "#Top 5 rows of dataset\n",
    "dataset.head()"
   ]
  },
  {
   "cell_type": "code",
   "execution_count": 4,
   "metadata": {
    "colab": {
     "base_uri": "https://localhost:8080/",
     "height": 34
    },
    "colab_type": "code",
    "id": "9cKHWr_b_TTO",
    "outputId": "4ceb365e-5566-46e6-9435-200827fd51f1"
   },
   "outputs": [
    {
     "data": {
      "text/plain": [
       "(506, 14)"
      ]
     },
     "execution_count": 4,
     "metadata": {},
     "output_type": "execute_result"
    }
   ],
   "source": [
    "#Shape of dataset (rows, columns)\n",
    "dataset.shape"
   ]
  },
  {
   "cell_type": "code",
   "execution_count": 5,
   "metadata": {
    "colab": {
     "base_uri": "https://localhost:8080/",
     "height": 317
    },
    "colab_type": "code",
    "id": "VUycv7l98dlu",
    "outputId": "05bfe206-47f6-492d-882b-eb2a927623bd"
   },
   "outputs": [
    {
     "data": {
      "text/html": [
       "<div>\n",
       "<style scoped>\n",
       "    .dataframe tbody tr th:only-of-type {\n",
       "        vertical-align: middle;\n",
       "    }\n",
       "\n",
       "    .dataframe tbody tr th {\n",
       "        vertical-align: top;\n",
       "    }\n",
       "\n",
       "    .dataframe thead th {\n",
       "        text-align: right;\n",
       "    }\n",
       "</style>\n",
       "<table border=\"1\" class=\"dataframe\">\n",
       "  <thead>\n",
       "    <tr style=\"text-align: right;\">\n",
       "      <th></th>\n",
       "      <th>CRIM</th>\n",
       "      <th>ZN</th>\n",
       "      <th>INDUS</th>\n",
       "      <th>CHAS</th>\n",
       "      <th>NOX</th>\n",
       "      <th>RM</th>\n",
       "      <th>AGE</th>\n",
       "      <th>DIS</th>\n",
       "      <th>RAD</th>\n",
       "      <th>TAX</th>\n",
       "      <th>PTRATIO</th>\n",
       "      <th>B</th>\n",
       "      <th>LSTAT</th>\n",
       "      <th>MEDV</th>\n",
       "    </tr>\n",
       "  </thead>\n",
       "  <tbody>\n",
       "    <tr>\n",
       "      <th>count</th>\n",
       "      <td>506.000000</td>\n",
       "      <td>506.000000</td>\n",
       "      <td>506.000000</td>\n",
       "      <td>506.000000</td>\n",
       "      <td>506.000000</td>\n",
       "      <td>506.000000</td>\n",
       "      <td>506.000000</td>\n",
       "      <td>506.000000</td>\n",
       "      <td>506.000000</td>\n",
       "      <td>506.000000</td>\n",
       "      <td>506.000000</td>\n",
       "      <td>506.000000</td>\n",
       "      <td>506.000000</td>\n",
       "      <td>506.000000</td>\n",
       "    </tr>\n",
       "    <tr>\n",
       "      <th>mean</th>\n",
       "      <td>3.613524</td>\n",
       "      <td>11.363636</td>\n",
       "      <td>11.136779</td>\n",
       "      <td>0.069170</td>\n",
       "      <td>0.554695</td>\n",
       "      <td>6.284634</td>\n",
       "      <td>68.574901</td>\n",
       "      <td>3.795043</td>\n",
       "      <td>9.549407</td>\n",
       "      <td>408.237154</td>\n",
       "      <td>18.455534</td>\n",
       "      <td>356.674032</td>\n",
       "      <td>12.653063</td>\n",
       "      <td>22.532806</td>\n",
       "    </tr>\n",
       "    <tr>\n",
       "      <th>std</th>\n",
       "      <td>8.601545</td>\n",
       "      <td>23.322453</td>\n",
       "      <td>6.860353</td>\n",
       "      <td>0.253994</td>\n",
       "      <td>0.115878</td>\n",
       "      <td>0.702617</td>\n",
       "      <td>28.148861</td>\n",
       "      <td>2.105710</td>\n",
       "      <td>8.707259</td>\n",
       "      <td>168.537116</td>\n",
       "      <td>2.164946</td>\n",
       "      <td>91.294864</td>\n",
       "      <td>7.141062</td>\n",
       "      <td>9.197104</td>\n",
       "    </tr>\n",
       "    <tr>\n",
       "      <th>min</th>\n",
       "      <td>0.006320</td>\n",
       "      <td>0.000000</td>\n",
       "      <td>0.460000</td>\n",
       "      <td>0.000000</td>\n",
       "      <td>0.385000</td>\n",
       "      <td>3.561000</td>\n",
       "      <td>2.900000</td>\n",
       "      <td>1.129600</td>\n",
       "      <td>1.000000</td>\n",
       "      <td>187.000000</td>\n",
       "      <td>12.600000</td>\n",
       "      <td>0.320000</td>\n",
       "      <td>1.730000</td>\n",
       "      <td>5.000000</td>\n",
       "    </tr>\n",
       "    <tr>\n",
       "      <th>25%</th>\n",
       "      <td>0.082045</td>\n",
       "      <td>0.000000</td>\n",
       "      <td>5.190000</td>\n",
       "      <td>0.000000</td>\n",
       "      <td>0.449000</td>\n",
       "      <td>5.885500</td>\n",
       "      <td>45.025000</td>\n",
       "      <td>2.100175</td>\n",
       "      <td>4.000000</td>\n",
       "      <td>279.000000</td>\n",
       "      <td>17.400000</td>\n",
       "      <td>375.377500</td>\n",
       "      <td>6.950000</td>\n",
       "      <td>17.025000</td>\n",
       "    </tr>\n",
       "    <tr>\n",
       "      <th>50%</th>\n",
       "      <td>0.256510</td>\n",
       "      <td>0.000000</td>\n",
       "      <td>9.690000</td>\n",
       "      <td>0.000000</td>\n",
       "      <td>0.538000</td>\n",
       "      <td>6.208500</td>\n",
       "      <td>77.500000</td>\n",
       "      <td>3.207450</td>\n",
       "      <td>5.000000</td>\n",
       "      <td>330.000000</td>\n",
       "      <td>19.050000</td>\n",
       "      <td>391.440000</td>\n",
       "      <td>11.360000</td>\n",
       "      <td>21.200000</td>\n",
       "    </tr>\n",
       "    <tr>\n",
       "      <th>75%</th>\n",
       "      <td>3.677083</td>\n",
       "      <td>12.500000</td>\n",
       "      <td>18.100000</td>\n",
       "      <td>0.000000</td>\n",
       "      <td>0.624000</td>\n",
       "      <td>6.623500</td>\n",
       "      <td>94.075000</td>\n",
       "      <td>5.188425</td>\n",
       "      <td>24.000000</td>\n",
       "      <td>666.000000</td>\n",
       "      <td>20.200000</td>\n",
       "      <td>396.225000</td>\n",
       "      <td>16.955000</td>\n",
       "      <td>25.000000</td>\n",
       "    </tr>\n",
       "    <tr>\n",
       "      <th>max</th>\n",
       "      <td>88.976200</td>\n",
       "      <td>100.000000</td>\n",
       "      <td>27.740000</td>\n",
       "      <td>1.000000</td>\n",
       "      <td>0.871000</td>\n",
       "      <td>8.780000</td>\n",
       "      <td>100.000000</td>\n",
       "      <td>12.126500</td>\n",
       "      <td>24.000000</td>\n",
       "      <td>711.000000</td>\n",
       "      <td>22.000000</td>\n",
       "      <td>396.900000</td>\n",
       "      <td>37.970000</td>\n",
       "      <td>50.000000</td>\n",
       "    </tr>\n",
       "  </tbody>\n",
       "</table>\n",
       "</div>"
      ],
      "text/plain": [
       "             CRIM          ZN       INDUS        CHAS         NOX          RM  \\\n",
       "count  506.000000  506.000000  506.000000  506.000000  506.000000  506.000000   \n",
       "mean     3.613524   11.363636   11.136779    0.069170    0.554695    6.284634   \n",
       "std      8.601545   23.322453    6.860353    0.253994    0.115878    0.702617   \n",
       "min      0.006320    0.000000    0.460000    0.000000    0.385000    3.561000   \n",
       "25%      0.082045    0.000000    5.190000    0.000000    0.449000    5.885500   \n",
       "50%      0.256510    0.000000    9.690000    0.000000    0.538000    6.208500   \n",
       "75%      3.677083   12.500000   18.100000    0.000000    0.624000    6.623500   \n",
       "max     88.976200  100.000000   27.740000    1.000000    0.871000    8.780000   \n",
       "\n",
       "              AGE         DIS         RAD         TAX     PTRATIO           B  \\\n",
       "count  506.000000  506.000000  506.000000  506.000000  506.000000  506.000000   \n",
       "mean    68.574901    3.795043    9.549407  408.237154   18.455534  356.674032   \n",
       "std     28.148861    2.105710    8.707259  168.537116    2.164946   91.294864   \n",
       "min      2.900000    1.129600    1.000000  187.000000   12.600000    0.320000   \n",
       "25%     45.025000    2.100175    4.000000  279.000000   17.400000  375.377500   \n",
       "50%     77.500000    3.207450    5.000000  330.000000   19.050000  391.440000   \n",
       "75%     94.075000    5.188425   24.000000  666.000000   20.200000  396.225000   \n",
       "max    100.000000   12.126500   24.000000  711.000000   22.000000  396.900000   \n",
       "\n",
       "            LSTAT        MEDV  \n",
       "count  506.000000  506.000000  \n",
       "mean    12.653063   22.532806  \n",
       "std      7.141062    9.197104  \n",
       "min      1.730000    5.000000  \n",
       "25%      6.950000   17.025000  \n",
       "50%     11.360000   21.200000  \n",
       "75%     16.955000   25.000000  \n",
       "max     37.970000   50.000000  "
      ]
     },
     "execution_count": 5,
     "metadata": {},
     "output_type": "execute_result"
    }
   ],
   "source": [
    "#describing the dataste to see distribution of data\n",
    "dataset.describe()"
   ]
  },
  {
   "cell_type": "markdown",
   "metadata": {
    "colab_type": "text",
    "id": "8Ahodoe1_kUQ"
   },
   "source": [
    "From the above distribution we can see that:\n",
    "1.   Variable 'ZN' is 0 for 25th and 50th percentile that will result in skweed data. This is a result of 'ZN' being a conditional variable.\n",
    "2.   Also for variable 'CHAS' it's 0 for 25th, 50th and 75th percentile that will also show us that data is highly skweed. This is a result of 'CHAS' being a categorical data, contaning vaules 0 and 1 only.\n",
    "\n",
    "Another important fact we can derive form above description is tha max value of 'MEDV' which is 50, goes along with the original data description which says : Variable #14 seems to be censored at 50.00 (corresponding to a median price of $50,000)\n",
    "\n",
    "For a start we can derive an asumption that 'ZN' and 'CHAS' variables may not be useful in predicting MEDV as they will result in biased model, so let's remove them."
   ]
  },
  {
   "cell_type": "code",
   "execution_count": 6,
   "metadata": {
    "colab": {},
    "colab_type": "code",
    "id": "WH-ub7syf3fF"
   },
   "outputs": [],
   "source": [
    "#removing variables 'ZN' and 'CHAS' form data\n",
    "dataset = dataset.drop(['ZN', 'CHAS'], axis=1)"
   ]
  },
  {
   "cell_type": "markdown",
   "metadata": {
    "colab_type": "text",
    "id": "9sz1rlGrmgCu"
   },
   "source": [
    "# **Checking null values**"
   ]
  },
  {
   "cell_type": "code",
   "execution_count": 7,
   "metadata": {
    "colab": {
     "base_uri": "https://localhost:8080/",
     "height": 238
    },
    "colab_type": "code",
    "id": "BK7hvYR1oPSY",
    "outputId": "06e3e460-584a-4ee9-9c8a-230229113861"
   },
   "outputs": [
    {
     "data": {
      "text/plain": [
       "CRIM       0\n",
       "INDUS      0\n",
       "NOX        0\n",
       "RM         0\n",
       "AGE        0\n",
       "DIS        0\n",
       "RAD        0\n",
       "TAX        0\n",
       "PTRATIO    0\n",
       "B          0\n",
       "LSTAT      0\n",
       "MEDV       0\n",
       "dtype: int64"
      ]
     },
     "execution_count": 7,
     "metadata": {},
     "output_type": "execute_result"
    }
   ],
   "source": [
    "dataset.isnull().sum()"
   ]
  },
  {
   "cell_type": "markdown",
   "metadata": {
    "colab_type": "text",
    "id": "QJpeQYg4nAzw"
   },
   "source": [
    "There are no null values in our dataset"
   ]
  },
  {
   "cell_type": "markdown",
   "metadata": {
    "colab_type": "text",
    "id": "LkWP0x5lJ56f"
   },
   "source": [
    "# **Checking and treating outliers in the data**"
   ]
  },
  {
   "cell_type": "code",
   "execution_count": 8,
   "metadata": {
    "colab": {
     "base_uri": "https://localhost:8080/",
     "height": 383
    },
    "colab_type": "code",
    "id": "HI5qKrl_NAxe",
    "outputId": "229b8b5f-39ee-415e-8d46-f1c9e569b98f"
   },
   "outputs": [
    {
     "data": {
      "image/png": "[encoded data removed]",
      "text/plain": [
       "<Figure size 1080x360 with 12 Axes>"
      ]
     },
     "metadata": {
      "needs_background": "light"
     },
     "output_type": "display_data"
    }
   ],
   "source": [
    "#Plotting boxplots to see if there are any outliers in our data (considering data betwen 25th and 75th percentile as non outlier)\n",
    "fig, ax = plt.subplots(ncols=6, nrows=2, figsize=(15, 5))\n",
    "ax = ax.flatten()\n",
    "index = 0\n",
    "for i in dataset.columns:\n",
    "  sns.boxplot(y=i, data=dataset, ax=ax[index])\n",
    "  index +=1\n",
    "plt.tight_layout(pad=0.4)\n",
    "plt.show()"
   ]
  },
  {
   "cell_type": "markdown",
   "metadata": {
    "colab_type": "text",
    "id": "piYz1jKxW1YC"
   },
   "source": [
    "Columns CRIM, RM, DIS, PTRATIO, B, LSTAT and MEDV have outliers."
   ]
  },
  {
   "cell_type": "code",
   "execution_count": 9,
   "metadata": {
    "colab": {
     "base_uri": "https://localhost:8080/",
     "height": 221
    },
    "colab_type": "code",
    "id": "nWbg-xMQ4JY6",
    "outputId": "c6c14507-2b9d-4ca7-b8a7-4d5bc7769238"
   },
   "outputs": [
    {
     "name": "stdout",
     "output_type": "stream",
     "text": [
      "Outliers in CRIM is 13.04% with count 66\n",
      "Outliers in INDUS is 0.00% with count 0\n",
      "Outliers in NOX is 0.00% with count 0\n",
      "Outliers in RM is 5.93% with count 30\n",
      "Outliers in AGE is 0.00% with count 0\n",
      "Outliers in DIS is 0.99% with count 5\n",
      "Outliers in RAD is 0.00% with count 0\n",
      "Outliers in TAX is 0.00% with count 0\n",
      "Outliers in PTRATIO is 2.96% with count 15\n",
      "Outliers in B is 15.22% with count 77\n",
      "Outliers in LSTAT is 1.38% with count 7\n",
      "Outliers in MEDV is 7.91% with count 40\n"
     ]
    }
   ],
   "source": [
    "#checking percentage/ amount of outliers\n",
    "for i in dataset.columns:\n",
    "  dataset.sort_values(by=i, ascending=True, na_position='last')\n",
    "  q1, q3 = np.nanpercentile(dataset[i], [25,75])\n",
    "  iqr = q3-q1\n",
    "  lower_bound = q1-(1.5*iqr)\n",
    "  upper_bound = q3+(1.5*iqr)\n",
    "  outlier_data = dataset[i][(dataset[i] < lower_bound) | (dataset[i] > upper_bound)] #creating a series of outlier data\n",
    "  perc = (outlier_data.count()/dataset[i].count())*100\n",
    "  print('Outliers in %s is %.2f%% with count %.f' %(i, perc, outlier_data.count()))\n",
    "  #----------------------code below is for comming sections----------------------\n",
    "  if i == 'B':\n",
    "    outlierDataB_index = outlier_data.index\n",
    "    outlierDataB_LB = dataset[i][(dataset[i] < lower_bound)]\n",
    "    outlierDataB_UB = dataset[i][(dataset[i] > upper_bound)]\n",
    "  elif i == 'CRIM':\n",
    "    outlierDataCRIM_index = outlier_data.index\n",
    "    outlierDataCRIM_LB = dataset[i][(dataset[i] < lower_bound)]\n",
    "    outlierDataCRIM_UB = dataset[i][(dataset[i] > upper_bound)]\n",
    "  elif i == 'MEDV':\n",
    "    lowerBoundMEDV = lower_bound\n",
    "    upperBoundMEDV = upper_bound"
   ]
  },
  {
   "cell_type": "markdown",
   "metadata": {
    "colab_type": "text",
    "id": "n9Mx3ry2BaoR"
   },
   "source": [
    "Variable 'CRIM' and 'B' have high percentage of outlier data which can adversely affect the accuracy of our model.\n",
    "\n",
    "To get rid of this we can either drop the observations or replace with some apporach like mean or median. But dropping all the outlier observations is not a good idea as we will be left with very fewer observations due to higher percentage of outliers to train our model on, also if we replace such a big percentage of the outliers with some approach (mean, median...etc.) then it might result into less accurate or biased model.\n",
    "\n",
    "We can use an alternative : let's drop the extreme outliers and replace the remaning by some approach (mean, median.....etc.)"
   ]
  },
  {
   "cell_type": "code",
   "execution_count": 10,
   "metadata": {
    "colab": {},
    "colab_type": "code",
    "id": "kRQyxKLW4Zxy"
   },
   "outputs": [],
   "source": [
    "dataset2 = dataset.copy() # I copied the data in another variable just for an ease of coding, but this is not required"
   ]
  },
  {
   "cell_type": "code",
   "execution_count": 11,
   "metadata": {
    "colab": {
     "base_uri": "https://localhost:8080/",
     "height": 34
    },
    "colab_type": "code",
    "id": "uwH__6yp4aXq",
    "outputId": "0be82c5f-6d78-4d2f-f095-42a0e2bfce83"
   },
   "outputs": [
    {
     "data": {
      "text/plain": [
       "(435, 12)"
      ]
     },
     "execution_count": 11,
     "metadata": {},
     "output_type": "execute_result"
    }
   ],
   "source": [
    "#removing extreme outliers form B and CRIM (removing those observations)\n",
    "removed=[]\n",
    "outlierDataB_LB.sort_values(ascending=True, inplace=True)\n",
    "outlierDataB_UB.sort_values(ascending=False, inplace=True)\n",
    "counter=1\n",
    "for i in outlierDataB_LB.index:\n",
    "  if counter<=19:\n",
    "    dataset2.drop(index=i, inplace=True)\n",
    "    counter+=1\n",
    "    removed.append(i)\n",
    "for i in outlierDataB_UB.index:\n",
    "  if counter<=38:\n",
    "    dataset2.drop(index=i, inplace=True)\n",
    "    counter+=1\n",
    "    removed.append(i)\n",
    "for i in outlierDataB_LB.index:\n",
    "  if counter<=38 and i not in removed:\n",
    "    dataset2.drop(index=i, inplace=True)\n",
    "    counter+=1\n",
    "    removed.append(i)\n",
    "\n",
    "\n",
    "outlierDataCRIM_LB.sort_values(ascending=True, inplace=True)\n",
    "outlierDataCRIM_UB.sort_values(ascending=False, inplace=True)\n",
    "counter=1\n",
    "for i in outlierDataCRIM_LB.index:\n",
    "  if counter<=16 and i not in removed:\n",
    "    dataset2.drop(index=i, inplace=True)\n",
    "    counter+=1\n",
    "    removed.append(i)\n",
    "for i in outlierDataCRIM_UB.index:\n",
    "  if counter<=33 and i not in removed:\n",
    "    dataset2.drop(index=i, inplace=True)\n",
    "    counter+=1\n",
    "    removed.append(i)\n",
    "for i in outlierDataCRIM_LB.index:\n",
    "  if counter<=33 and i not in removed:\n",
    "    dataset2.drop(index=i, inplace=True)\n",
    "    counter+=1\n",
    "    removed.append(i)\n",
    "\n",
    "dataset2.shape"
   ]
  },
  {
   "cell_type": "markdown",
   "metadata": {
    "colab_type": "text",
    "id": "KCSU5DXqpRkd"
   },
   "source": [
    "We have dropped 71 observations from our dataset, now we are left with 435 observations and 12 columns.\n",
    "\n",
    "**Now replacing the remaning outliers with mean of each variable.**"
   ]
  },
  {
   "cell_type": "code",
   "execution_count": 12,
   "metadata": {
    "colab": {},
    "colab_type": "code",
    "id": "Lh3w_maqnhzr"
   },
   "outputs": [],
   "source": [
    "dataset3 = dataset2.copy() # I copied the data in another variable just for an ease of coding, but this is not required"
   ]
  },
  {
   "cell_type": "code",
   "execution_count": 13,
   "metadata": {
    "colab": {},
    "colab_type": "code",
    "id": "f0b8snRwX3kn"
   },
   "outputs": [],
   "source": [
    "#replacing remaning outliers by mean\n",
    "for i in dataset.columns:\n",
    "  dataset.sort_values(by=i, ascending=True, na_position='last')\n",
    "  q1, q3 = np.nanpercentile(dataset[i], [25,75])\n",
    "  iqr = q3-q1\n",
    "  lower_bound = q1-(1.5*iqr)\n",
    "  upper_bound = q3+(1.5*iqr)\n",
    "  mean = dataset3[i].mean()\n",
    "  if i != 'MEDV':\n",
    "    dataset3.loc[dataset3[i] < lower_bound, [i]] = mean\n",
    "    dataset3.loc[dataset3[i] > upper_bound, [i]] = mean\n",
    "  else:\n",
    "    dataset3.loc[dataset3[i] < lower_bound, [i]] = mean\n",
    "    dataset3.loc[dataset3[i] > upper_bound, [i]] = 50"
   ]
  },
  {
   "cell_type": "markdown",
   "metadata": {
    "colab_type": "text",
    "id": "bphU6cFtp353"
   },
   "source": [
    "Below is the description of our dataset after treating the outliers:"
   ]
  },
  {
   "cell_type": "code",
   "execution_count": 14,
   "metadata": {
    "colab": {
     "base_uri": "https://localhost:8080/",
     "height": 297
    },
    "colab_type": "code",
    "id": "9a1T4UZxX3gP",
    "outputId": "96240ed0-04b4-4aec-8eb6-042379bd5882"
   },
   "outputs": [
    {
     "data": {
      "text/html": [
       "<div>\n",
       "<style scoped>\n",
       "    .dataframe tbody tr th:only-of-type {\n",
       "        vertical-align: middle;\n",
       "    }\n",
       "\n",
       "    .dataframe tbody tr th {\n",
       "        vertical-align: top;\n",
       "    }\n",
       "\n",
       "    .dataframe thead th {\n",
       "        text-align: right;\n",
       "    }\n",
       "</style>\n",
       "<table border=\"1\" class=\"dataframe\">\n",
       "  <thead>\n",
       "    <tr style=\"text-align: right;\">\n",
       "      <th></th>\n",
       "      <th>CRIM</th>\n",
       "      <th>INDUS</th>\n",
       "      <th>NOX</th>\n",
       "      <th>RM</th>\n",
       "      <th>AGE</th>\n",
       "      <th>DIS</th>\n",
       "      <th>RAD</th>\n",
       "      <th>TAX</th>\n",
       "      <th>PTRATIO</th>\n",
       "      <th>B</th>\n",
       "      <th>LSTAT</th>\n",
       "      <th>MEDV</th>\n",
       "    </tr>\n",
       "  </thead>\n",
       "  <tbody>\n",
       "    <tr>\n",
       "      <th>count</th>\n",
       "      <td>435.000000</td>\n",
       "      <td>435.000000</td>\n",
       "      <td>435.000000</td>\n",
       "      <td>435.000000</td>\n",
       "      <td>435.000000</td>\n",
       "      <td>435.000000</td>\n",
       "      <td>435.000000</td>\n",
       "      <td>435.000000</td>\n",
       "      <td>435.000000</td>\n",
       "      <td>435.000000</td>\n",
       "      <td>435.000000</td>\n",
       "      <td>435.000000</td>\n",
       "    </tr>\n",
       "    <tr>\n",
       "      <th>mean</th>\n",
       "      <td>1.054293</td>\n",
       "      <td>10.008575</td>\n",
       "      <td>0.534257</td>\n",
       "      <td>6.266477</td>\n",
       "      <td>64.741609</td>\n",
       "      <td>4.038049</td>\n",
       "      <td>7.409195</td>\n",
       "      <td>369.232184</td>\n",
       "      <td>18.402521</td>\n",
       "      <td>388.243160</td>\n",
       "      <td>11.128671</td>\n",
       "      <td>24.502299</td>\n",
       "    </tr>\n",
       "    <tr>\n",
       "      <th>std</th>\n",
       "      <td>1.936962</td>\n",
       "      <td>6.741091</td>\n",
       "      <td>0.108957</td>\n",
       "      <td>0.511640</td>\n",
       "      <td>28.319794</td>\n",
       "      <td>1.960932</td>\n",
       "      <td>7.185681</td>\n",
       "      <td>146.359443</td>\n",
       "      <td>1.945860</td>\n",
       "      <td>10.759893</td>\n",
       "      <td>5.973657</td>\n",
       "      <td>9.616602</td>\n",
       "    </tr>\n",
       "    <tr>\n",
       "      <th>min</th>\n",
       "      <td>0.006320</td>\n",
       "      <td>0.460000</td>\n",
       "      <td>0.385000</td>\n",
       "      <td>4.903000</td>\n",
       "      <td>2.900000</td>\n",
       "      <td>1.129600</td>\n",
       "      <td>1.000000</td>\n",
       "      <td>187.000000</td>\n",
       "      <td>13.600000</td>\n",
       "      <td>344.910000</td>\n",
       "      <td>1.730000</td>\n",
       "      <td>6.300000</td>\n",
       "    </tr>\n",
       "    <tr>\n",
       "      <th>25%</th>\n",
       "      <td>0.068740</td>\n",
       "      <td>4.860000</td>\n",
       "      <td>0.445000</td>\n",
       "      <td>5.926500</td>\n",
       "      <td>40.050000</td>\n",
       "      <td>2.404500</td>\n",
       "      <td>4.000000</td>\n",
       "      <td>276.000000</td>\n",
       "      <td>17.400000</td>\n",
       "      <td>382.557563</td>\n",
       "      <td>6.545000</td>\n",
       "      <td>18.900000</td>\n",
       "    </tr>\n",
       "    <tr>\n",
       "      <th>50%</th>\n",
       "      <td>0.173310</td>\n",
       "      <td>8.140000</td>\n",
       "      <td>0.515000</td>\n",
       "      <td>6.230000</td>\n",
       "      <td>70.200000</td>\n",
       "      <td>3.665000</td>\n",
       "      <td>5.000000</td>\n",
       "      <td>307.000000</td>\n",
       "      <td>18.600000</td>\n",
       "      <td>392.520000</td>\n",
       "      <td>9.970000</td>\n",
       "      <td>22.200000</td>\n",
       "    </tr>\n",
       "    <tr>\n",
       "      <th>75%</th>\n",
       "      <td>0.846290</td>\n",
       "      <td>18.100000</td>\n",
       "      <td>0.585000</td>\n",
       "      <td>6.550500</td>\n",
       "      <td>91.550000</td>\n",
       "      <td>5.400900</td>\n",
       "      <td>6.000000</td>\n",
       "      <td>403.000000</td>\n",
       "      <td>20.200000</td>\n",
       "      <td>396.260000</td>\n",
       "      <td>14.655000</td>\n",
       "      <td>27.100000</td>\n",
       "    </tr>\n",
       "    <tr>\n",
       "      <th>max</th>\n",
       "      <td>8.982960</td>\n",
       "      <td>27.740000</td>\n",
       "      <td>0.871000</td>\n",
       "      <td>7.691000</td>\n",
       "      <td>100.000000</td>\n",
       "      <td>9.222900</td>\n",
       "      <td>24.000000</td>\n",
       "      <td>711.000000</td>\n",
       "      <td>22.000000</td>\n",
       "      <td>396.900000</td>\n",
       "      <td>30.810000</td>\n",
       "      <td>50.000000</td>\n",
       "    </tr>\n",
       "  </tbody>\n",
       "</table>\n",
       "</div>"
      ],
      "text/plain": [
       "             CRIM       INDUS         NOX          RM         AGE         DIS  \\\n",
       "count  435.000000  435.000000  435.000000  435.000000  435.000000  435.000000   \n",
       "mean     1.054293   10.008575    0.534257    6.266477   64.741609    4.038049   \n",
       "std      1.936962    6.741091    0.108957    0.511640   28.319794    1.960932   \n",
       "min      0.006320    0.460000    0.385000    4.903000    2.900000    1.129600   \n",
       "25%      0.068740    4.860000    0.445000    5.926500   40.050000    2.404500   \n",
       "50%      0.173310    8.140000    0.515000    6.230000   70.200000    3.665000   \n",
       "75%      0.846290   18.100000    0.585000    6.550500   91.550000    5.400900   \n",
       "max      8.982960   27.740000    0.871000    7.691000  100.000000    9.222900   \n",
       "\n",
       "              RAD         TAX     PTRATIO           B       LSTAT        MEDV  \n",
       "count  435.000000  435.000000  435.000000  435.000000  435.000000  435.000000  \n",
       "mean     7.409195  369.232184   18.402521  388.243160   11.128671   24.502299  \n",
       "std      7.185681  146.359443    1.945860   10.759893    5.973657    9.616602  \n",
       "min      1.000000  187.000000   13.600000  344.910000    1.730000    6.300000  \n",
       "25%      4.000000  276.000000   17.400000  382.557563    6.545000   18.900000  \n",
       "50%      5.000000  307.000000   18.600000  392.520000    9.970000   22.200000  \n",
       "75%      6.000000  403.000000   20.200000  396.260000   14.655000   27.100000  \n",
       "max     24.000000  711.000000   22.000000  396.900000   30.810000   50.000000  "
      ]
     },
     "execution_count": 14,
     "metadata": {},
     "output_type": "execute_result"
    }
   ],
   "source": [
    "dataset3.describe()"
   ]
  },
  {
   "cell_type": "markdown",
   "metadata": {
    "colab_type": "text",
    "id": "J-zIGEdeqPnB"
   },
   "source": [
    "# **Selecting the features which can predict MEDV the best**"
   ]
  },
  {
   "cell_type": "markdown",
   "metadata": {
    "colab_type": "text",
    "id": "6HefOe3-qtAu"
   },
   "source": [
    "**Using p-Value to to select the optimal features:**\n",
    "\n",
    "Dropping all the variables whose p-value is less than significance level of 0.05 using backward elimination method"
   ]
  },
  {
   "cell_type": "code",
   "execution_count": 15,
   "metadata": {
    "colab": {},
    "colab_type": "code",
    "id": "fXvjao6kyKRn"
   },
   "outputs": [],
   "source": [
    "#independent variable(X) and dependent variable(Y)\n",
    "X = dataset3.iloc[:, :-1]\n",
    "Y = dataset3.iloc[:, 11]"
   ]
  },
  {
   "cell_type": "code",
   "execution_count": 16,
   "metadata": {
    "colab": {},
    "colab_type": "code",
    "id": "iyKV8ZiItOFs"
   },
   "outputs": [],
   "source": [
    "#Feature selection using P-Value/ Backward elimination\n",
    "def BackwardElimination(sl, w):\n",
    "    for i in range(0, len(w.columns)):\n",
    "        regressor_OLS = sm.OLS(endog=Y, exog=w).fit()\n",
    "        max_pvalue = max(regressor_OLS.pvalues)\n",
    "        pvalues = regressor_OLS.pvalues\n",
    "        if max_pvalue > SL:\n",
    "            index_max_pvalue = pvalues[pvalues==max_pvalue].index\n",
    "            w = w.drop(index_max_pvalue, axis = 1) #delete the valriable for that p value\n",
    "    return w,pvalues,index_max_pvalue\n",
    "\n",
    "SL = 0.05\n",
    "ones = np.ones((435,1))  #adding a columns of ones to X as it is required by statsmodels library\n",
    "W = X\n",
    "W.insert(0, 'Constant', ones, True)\n",
    "W_optimal = W.iloc[:, [0,1,2,3,4,5,6,7,8,9,10,11]]\n",
    "\n",
    "W_optimal,pvalues,index_max_pvalue = BackwardElimination(SL, W_optimal)\n",
    "X = W_optimal.drop('Constant', axis=1)"
   ]
  },
  {
   "cell_type": "code",
   "execution_count": 17,
   "metadata": {
    "colab": {
     "base_uri": "https://localhost:8080/",
     "height": 34
    },
    "colab_type": "code",
    "id": "s-o6H7Ku7zKN",
    "outputId": "f8a1e412-b05f-42a9-d89e-ee6cd7bd5082"
   },
   "outputs": [
    {
     "data": {
      "text/plain": [
       "Index(['NOX', 'RM', 'DIS', 'RAD', 'TAX', 'PTRATIO', 'LSTAT'], dtype='object')"
      ]
     },
     "execution_count": 17,
     "metadata": {},
     "output_type": "execute_result"
    }
   ],
   "source": [
    "#remaning variabls after backward elimination\n",
    "X.columns"
   ]
  },
  {
   "cell_type": "markdown",
   "metadata": {
    "colab_type": "text",
    "id": "eU6cJZt3rdHn"
   },
   "source": [
    "**Using pearson correlation to remove any highly correlated independent variables to avoid multicollinearity :**"
   ]
  },
  {
   "cell_type": "code",
   "execution_count": 18,
   "metadata": {
    "colab": {
     "base_uri": "https://localhost:8080/",
     "height": 470
    },
    "colab_type": "code",
    "id": "Lop8_77RYOqY",
    "outputId": "759c7cad-f4e2-4e9b-9daa-703075e46ef1"
   },
   "outputs": [
    {
     "data": {
      "image/png": "[encoded data removed]",
      "text/plain": [
       "<Figure size 576x576 with 2 Axes>"
      ]
     },
     "metadata": {
      "needs_background": "light"
     },
     "output_type": "display_data"
    }
   ],
   "source": [
    "#Ploting heatmap using pearson correlation among independent variables\n",
    "plt.figure(figsize=(8, 8))\n",
    "ax = sns.heatmap(X.corr(method='pearson').abs(), annot=True, square=True)\n",
    "plt.show()"
   ]
  },
  {
   "cell_type": "markdown",
   "metadata": {
    "colab_type": "text",
    "id": "qj9jON2N_qX3"
   },
   "source": [
    "From above correlation heatmap we can see that:\n",
    "1.   TAX and RAD are highly correlated with score 0.86. As per my personal understandig RAD (index of accessibility to radial highways) will be more important in predicting MEDV as commpared to TAX (full-value property-tax rate per $10,000), so I am considering to drop TAX\n",
    "2.   DIS and NOX are highly correlated with score 0.75. As per my personal understandig DIS (weighted distances to five Boston employment centres) will be more important in predicting MEDV as commpared to NOX (nitric oxides concentration (parts per 10 million)), so I am considering to drop NOX\n",
    "\n"
   ]
  },
  {
   "cell_type": "code",
   "execution_count": 19,
   "metadata": {
    "colab": {
     "base_uri": "https://localhost:8080/",
     "height": 34
    },
    "colab_type": "code",
    "id": "j9jLrIfI_pmp",
    "outputId": "b7e272b6-5652-45c2-f550-2b3bf5ad76ce"
   },
   "outputs": [
    {
     "data": {
      "text/plain": [
       "Index(['RM', 'DIS', 'RAD', 'PTRATIO', 'LSTAT'], dtype='object')"
      ]
     },
     "execution_count": 19,
     "metadata": {},
     "output_type": "execute_result"
    }
   ],
   "source": [
    "#dropping TAX and NOX\n",
    "X.drop('TAX', axis=1, inplace=True)\n",
    "X.drop('NOX', axis=1, inplace=True)\n",
    "\n",
    "#remaning columns after removing multicollinearity\n",
    "X.columns"
   ]
  },
  {
   "cell_type": "markdown",
   "metadata": {
    "colab_type": "text",
    "id": "8wzVf4FWsnHf"
   },
   "source": [
    "**Checking correlation of remaning independent variables with MEDV using Pearson correlation method**"
   ]
  },
  {
   "cell_type": "code",
   "execution_count": 20,
   "metadata": {
    "colab": {
     "base_uri": "https://localhost:8080/",
     "height": 102
    },
    "colab_type": "code",
    "id": "ZqsubDM_X3c6",
    "outputId": "eeecce50-d058-4356-aad9-8ae4380ed1db"
   },
   "outputs": [
    {
     "name": "stdout",
     "output_type": "stream",
     "text": [
      "RM 0.5619541568173062\n",
      "DIS 0.10793693577397612\n",
      "RAD -0.16919893157675941\n",
      "PTRATIO -0.38055803676641997\n",
      "LSTAT -0.6793276769216394\n"
     ]
    }
   ],
   "source": [
    "#now checking correlation of each variable with MEDV by pearson method and dropping the one with least correlation with MEDV\n",
    "for i in X.columns:\n",
    "  corr, _ = pearsonr(X[i], Y)\n",
    "  print(i,corr)"
   ]
  },
  {
   "cell_type": "markdown",
   "metadata": {
    "colab_type": "text",
    "id": "YtXsu2XPJmk3"
   },
   "source": [
    "We can see that DIS and RAD are least correlated to MEDV, so dropping DIS and RAD"
   ]
  },
  {
   "cell_type": "code",
   "execution_count": 21,
   "metadata": {
    "colab": {},
    "colab_type": "code",
    "id": "bPPpyyAhFAIM"
   },
   "outputs": [],
   "source": [
    "X.drop(['DIS', 'RAD'], axis=1, inplace=True)"
   ]
  },
  {
   "cell_type": "code",
   "execution_count": 22,
   "metadata": {
    "colab": {
     "base_uri": "https://localhost:8080/",
     "height": 34
    },
    "colab_type": "code",
    "id": "KQbztQqVs7RK",
    "outputId": "1f67b32f-4278-48b7-9e42-a304964c8644"
   },
   "outputs": [
    {
     "data": {
      "text/plain": [
       "Index(['RM', 'PTRATIO', 'LSTAT'], dtype='object')"
      ]
     },
     "execution_count": 22,
     "metadata": {},
     "output_type": "execute_result"
    }
   ],
   "source": [
    "#remaning variables/ features that can predict the MEDV most\n",
    "X.columns"
   ]
  },
  {
   "cell_type": "markdown",
   "metadata": {
    "colab_type": "text",
    "id": "dbUyokxStNZc"
   },
   "source": [
    "From the above feature selection process we conclude that features *RM*, *PTRATIO* and *LSAT* can alone predict MEDV the best"
   ]
  },
  {
   "cell_type": "markdown",
   "metadata": {
    "colab_type": "text",
    "id": "Z3W3U71GtjXq"
   },
   "source": [
    "# **Machine learning**\n",
    "\n",
    "This is a regression a problem as we have to predict a continous (non catagorical) value.\n",
    "\n",
    "Implementing regression machine learning models to out our dataset (using the remaing independent variables) to predict MEDV"
   ]
  },
  {
   "cell_type": "code",
   "execution_count": 23,
   "metadata": {
    "colab": {},
    "colab_type": "code",
    "id": "j0ZcwGnlOIHe"
   },
   "outputs": [],
   "source": [
    "#spliting data into traning set and test set\n",
    "X_train, X_test, Y_train, Y_test = tts(X, Y, test_size=0.2, random_state=0)"
   ]
  },
  {
   "cell_type": "markdown",
   "metadata": {
    "colab_type": "text",
    "id": "FvX0Bljhu4UB"
   },
   "source": [
    "**Linear regression model:**"
   ]
  },
  {
   "cell_type": "code",
   "execution_count": 24,
   "metadata": {
    "colab": {
     "base_uri": "https://localhost:8080/",
     "height": 204
    },
    "colab_type": "code",
    "id": "lSzR5GmwMoeH",
    "outputId": "82bc0ad2-750b-47e6-bff5-be1d1d0fef0d"
   },
   "outputs": [
    {
     "data": {
      "text/html": [
       "<div>\n",
       "<style scoped>\n",
       "    .dataframe tbody tr th:only-of-type {\n",
       "        vertical-align: middle;\n",
       "    }\n",
       "\n",
       "    .dataframe tbody tr th {\n",
       "        vertical-align: top;\n",
       "    }\n",
       "\n",
       "    .dataframe thead th {\n",
       "        text-align: right;\n",
       "    }\n",
       "</style>\n",
       "<table border=\"1\" class=\"dataframe\">\n",
       "  <thead>\n",
       "    <tr style=\"text-align: right;\">\n",
       "      <th></th>\n",
       "      <th>Actual</th>\n",
       "      <th>Predicted</th>\n",
       "    </tr>\n",
       "  </thead>\n",
       "  <tbody>\n",
       "    <tr>\n",
       "      <th>158</th>\n",
       "      <td>24.3</td>\n",
       "      <td>30.992768</td>\n",
       "    </tr>\n",
       "    <tr>\n",
       "      <th>269</th>\n",
       "      <td>20.7</td>\n",
       "      <td>21.073716</td>\n",
       "    </tr>\n",
       "    <tr>\n",
       "      <th>54</th>\n",
       "      <td>18.9</td>\n",
       "      <td>17.575853</td>\n",
       "    </tr>\n",
       "    <tr>\n",
       "      <th>360</th>\n",
       "      <td>25.0</td>\n",
       "      <td>25.980258</td>\n",
       "    </tr>\n",
       "    <tr>\n",
       "      <th>499</th>\n",
       "      <td>17.5</td>\n",
       "      <td>17.814795</td>\n",
       "    </tr>\n",
       "  </tbody>\n",
       "</table>\n",
       "</div>"
      ],
      "text/plain": [
       "     Actual  Predicted\n",
       "158    24.3  30.992768\n",
       "269    20.7  21.073716\n",
       "54     18.9  17.575853\n",
       "360    25.0  25.980258\n",
       "499    17.5  17.814795"
      ]
     },
     "execution_count": 24,
     "metadata": {},
     "output_type": "execute_result"
    }
   ],
   "source": [
    "linear = lr()\n",
    "linear.fit(X_train, Y_train)\n",
    "Y_pred = linear.predict(X_test)\n",
    "Y_compare_linear = pd.DataFrame({'Actual': Y_test, 'Predicted': Y_pred})\n",
    "Y_compare_linear.head() #displaying the comparision btween actual and predicted values of MEDV"
   ]
  },
  {
   "cell_type": "markdown",
   "metadata": {
    "colab_type": "text",
    "id": "S8pzkD50vCpC"
   },
   "source": [
    "**Polynomial regression model:**"
   ]
  },
  {
   "cell_type": "code",
   "execution_count": 25,
   "metadata": {
    "colab": {
     "base_uri": "https://localhost:8080/",
     "height": 204
    },
    "colab_type": "code",
    "id": "pMwq70bhFAX3",
    "outputId": "1162aac5-f657-4e96-d84c-adfc895a2f41"
   },
   "outputs": [
    {
     "data": {
      "text/html": [
       "<div>\n",
       "<style scoped>\n",
       "    .dataframe tbody tr th:only-of-type {\n",
       "        vertical-align: middle;\n",
       "    }\n",
       "\n",
       "    .dataframe tbody tr th {\n",
       "        vertical-align: top;\n",
       "    }\n",
       "\n",
       "    .dataframe thead th {\n",
       "        text-align: right;\n",
       "    }\n",
       "</style>\n",
       "<table border=\"1\" class=\"dataframe\">\n",
       "  <thead>\n",
       "    <tr style=\"text-align: right;\">\n",
       "      <th></th>\n",
       "      <th>Actual</th>\n",
       "      <th>Predicted</th>\n",
       "    </tr>\n",
       "  </thead>\n",
       "  <tbody>\n",
       "    <tr>\n",
       "      <th>158</th>\n",
       "      <td>24.3</td>\n",
       "      <td>32.860285</td>\n",
       "    </tr>\n",
       "    <tr>\n",
       "      <th>269</th>\n",
       "      <td>20.7</td>\n",
       "      <td>19.674236</td>\n",
       "    </tr>\n",
       "    <tr>\n",
       "      <th>54</th>\n",
       "      <td>18.9</td>\n",
       "      <td>15.952153</td>\n",
       "    </tr>\n",
       "    <tr>\n",
       "      <th>360</th>\n",
       "      <td>25.0</td>\n",
       "      <td>23.712803</td>\n",
       "    </tr>\n",
       "    <tr>\n",
       "      <th>499</th>\n",
       "      <td>17.5</td>\n",
       "      <td>18.331182</td>\n",
       "    </tr>\n",
       "  </tbody>\n",
       "</table>\n",
       "</div>"
      ],
      "text/plain": [
       "     Actual  Predicted\n",
       "158    24.3  32.860285\n",
       "269    20.7  19.674236\n",
       "54     18.9  15.952153\n",
       "360    25.0  23.712803\n",
       "499    17.5  18.331182"
      ]
     },
     "execution_count": 25,
     "metadata": {},
     "output_type": "execute_result"
    }
   ],
   "source": [
    "polyRegressor = PolynomialFeatures(degree=3)\n",
    "X_train_poly = polyRegressor.fit_transform(X_train)\n",
    "X_test_poly = polyRegressor.fit_transform(X_test)\n",
    "poly = lr()\n",
    "poly.fit(X_train_poly, Y_train)\n",
    "Y_pred = poly.predict(X_test_poly)\n",
    "Y_compare_poly = pd.DataFrame({'Actual': Y_test, 'Predicted': Y_pred})\n",
    "Y_compare_poly.head() #displaying the comparision btween actual and predicted values of MEDV"
   ]
  },
  {
   "cell_type": "markdown",
   "metadata": {
    "colab_type": "text",
    "id": "6sbu6MgBvKeg"
   },
   "source": [
    "**Support vector regression model:**"
   ]
  },
  {
   "cell_type": "code",
   "execution_count": 26,
   "metadata": {
    "colab": {
     "base_uri": "https://localhost:8080/",
     "height": 204
    },
    "colab_type": "code",
    "id": "Hc9y8DxzFAGk",
    "outputId": "5f2f9a9f-10ca-4cc7-ecf0-c0338742d411"
   },
   "outputs": [
    {
     "data": {
      "text/html": [
       "<div>\n",
       "<style scoped>\n",
       "    .dataframe tbody tr th:only-of-type {\n",
       "        vertical-align: middle;\n",
       "    }\n",
       "\n",
       "    .dataframe tbody tr th {\n",
       "        vertical-align: top;\n",
       "    }\n",
       "\n",
       "    .dataframe thead th {\n",
       "        text-align: right;\n",
       "    }\n",
       "</style>\n",
       "<table border=\"1\" class=\"dataframe\">\n",
       "  <thead>\n",
       "    <tr style=\"text-align: right;\">\n",
       "      <th></th>\n",
       "      <th>Actual</th>\n",
       "      <th>Predicted</th>\n",
       "    </tr>\n",
       "  </thead>\n",
       "  <tbody>\n",
       "    <tr>\n",
       "      <th>158</th>\n",
       "      <td>24.3</td>\n",
       "      <td>26.297366</td>\n",
       "    </tr>\n",
       "    <tr>\n",
       "      <th>269</th>\n",
       "      <td>20.7</td>\n",
       "      <td>19.596855</td>\n",
       "    </tr>\n",
       "    <tr>\n",
       "      <th>54</th>\n",
       "      <td>18.9</td>\n",
       "      <td>15.838815</td>\n",
       "    </tr>\n",
       "    <tr>\n",
       "      <th>360</th>\n",
       "      <td>25.0</td>\n",
       "      <td>24.115036</td>\n",
       "    </tr>\n",
       "    <tr>\n",
       "      <th>499</th>\n",
       "      <td>17.5</td>\n",
       "      <td>17.335738</td>\n",
       "    </tr>\n",
       "  </tbody>\n",
       "</table>\n",
       "</div>"
      ],
      "text/plain": [
       "     Actual  Predicted\n",
       "158    24.3  26.297366\n",
       "269    20.7  19.596855\n",
       "54     18.9  15.838815\n",
       "360    25.0  24.115036\n",
       "499    17.5  17.335738"
      ]
     },
     "execution_count": 26,
     "metadata": {},
     "output_type": "execute_result"
    }
   ],
   "source": [
    "svr = SVR(kernel= 'poly', gamma='scale')\n",
    "svr.fit(X_train,Y_train)\n",
    "Y_pred = svr.predict(X_test)\n",
    "Y_compare_svr = pd.DataFrame({'Actual': Y_test, 'Predicted': Y_pred})\n",
    "Y_compare_svr.head() #displaying the comparision btween actual and predicted values of MEDV"
   ]
  },
  {
   "cell_type": "markdown",
   "metadata": {
    "colab_type": "text",
    "id": "VX03VG-VvP1B"
   },
   "source": [
    "**Decission tree regression model:**"
   ]
  },
  {
   "cell_type": "code",
   "execution_count": 27,
   "metadata": {
    "colab": {
     "base_uri": "https://localhost:8080/",
     "height": 204
    },
    "colab_type": "code",
    "id": "JkI6bYDN4aP8",
    "outputId": "8085478c-0a60-4cc5-b1b8-74049c763751"
   },
   "outputs": [
    {
     "data": {
      "text/html": [
       "<div>\n",
       "<style scoped>\n",
       "    .dataframe tbody tr th:only-of-type {\n",
       "        vertical-align: middle;\n",
       "    }\n",
       "\n",
       "    .dataframe tbody tr th {\n",
       "        vertical-align: top;\n",
       "    }\n",
       "\n",
       "    .dataframe thead th {\n",
       "        text-align: right;\n",
       "    }\n",
       "</style>\n",
       "<table border=\"1\" class=\"dataframe\">\n",
       "  <thead>\n",
       "    <tr style=\"text-align: right;\">\n",
       "      <th></th>\n",
       "      <th>Actual</th>\n",
       "      <th>Predicted</th>\n",
       "    </tr>\n",
       "  </thead>\n",
       "  <tbody>\n",
       "    <tr>\n",
       "      <th>158</th>\n",
       "      <td>24.3</td>\n",
       "      <td>22.599</td>\n",
       "    </tr>\n",
       "    <tr>\n",
       "      <th>269</th>\n",
       "      <td>20.7</td>\n",
       "      <td>21.701</td>\n",
       "    </tr>\n",
       "    <tr>\n",
       "      <th>54</th>\n",
       "      <td>18.9</td>\n",
       "      <td>17.760</td>\n",
       "    </tr>\n",
       "    <tr>\n",
       "      <th>360</th>\n",
       "      <td>25.0</td>\n",
       "      <td>23.597</td>\n",
       "    </tr>\n",
       "    <tr>\n",
       "      <th>499</th>\n",
       "      <td>17.5</td>\n",
       "      <td>20.488</td>\n",
       "    </tr>\n",
       "  </tbody>\n",
       "</table>\n",
       "</div>"
      ],
      "text/plain": [
       "     Actual  Predicted\n",
       "158    24.3     22.599\n",
       "269    20.7     21.701\n",
       "54     18.9     17.760\n",
       "360    25.0     23.597\n",
       "499    17.5     20.488"
      ]
     },
     "execution_count": 27,
     "metadata": {},
     "output_type": "execute_result"
    }
   ],
   "source": [
    "rf = RandomForestRegressor(n_estimators=100)\n",
    "rf.fit(X_train,Y_train)\n",
    "Y_pred = rf.predict(X_test)\n",
    "Y_compare_randomforrest = pd.DataFrame({'Actual': Y_test, 'Predicted': Y_pred})\n",
    "Y_compare_randomforrest.head() #displaying the comparision btween actual and predicted values of MEDV"
   ]
  },
  {
   "cell_type": "markdown",
   "metadata": {
    "colab_type": "text",
    "id": "n_dVP_qvvXFI"
   },
   "source": [
    "**K-Nearest Neighbour regression model:**"
   ]
  },
  {
   "cell_type": "code",
   "execution_count": 28,
   "metadata": {
    "colab": {
     "base_uri": "https://localhost:8080/",
     "height": 204
    },
    "colab_type": "code",
    "id": "AAEWM-1vERM9",
    "outputId": "400af3ad-e591-4a7b-ad19-f88f00b1971d"
   },
   "outputs": [
    {
     "data": {
      "text/html": [
       "<div>\n",
       "<style scoped>\n",
       "    .dataframe tbody tr th:only-of-type {\n",
       "        vertical-align: middle;\n",
       "    }\n",
       "\n",
       "    .dataframe tbody tr th {\n",
       "        vertical-align: top;\n",
       "    }\n",
       "\n",
       "    .dataframe thead th {\n",
       "        text-align: right;\n",
       "    }\n",
       "</style>\n",
       "<table border=\"1\" class=\"dataframe\">\n",
       "  <thead>\n",
       "    <tr style=\"text-align: right;\">\n",
       "      <th></th>\n",
       "      <th>Actual</th>\n",
       "      <th>Predicted</th>\n",
       "    </tr>\n",
       "  </thead>\n",
       "  <tbody>\n",
       "    <tr>\n",
       "      <th>158</th>\n",
       "      <td>24.3</td>\n",
       "      <td>30.530769</td>\n",
       "    </tr>\n",
       "    <tr>\n",
       "      <th>269</th>\n",
       "      <td>20.7</td>\n",
       "      <td>20.346154</td>\n",
       "    </tr>\n",
       "    <tr>\n",
       "      <th>54</th>\n",
       "      <td>18.9</td>\n",
       "      <td>18.646154</td>\n",
       "    </tr>\n",
       "    <tr>\n",
       "      <th>360</th>\n",
       "      <td>25.0</td>\n",
       "      <td>22.384615</td>\n",
       "    </tr>\n",
       "    <tr>\n",
       "      <th>499</th>\n",
       "      <td>17.5</td>\n",
       "      <td>19.315385</td>\n",
       "    </tr>\n",
       "  </tbody>\n",
       "</table>\n",
       "</div>"
      ],
      "text/plain": [
       "     Actual  Predicted\n",
       "158    24.3  30.530769\n",
       "269    20.7  20.346154\n",
       "54     18.9  18.646154\n",
       "360    25.0  22.384615\n",
       "499    17.5  19.315385"
      ]
     },
     "execution_count": 28,
     "metadata": {},
     "output_type": "execute_result"
    }
   ],
   "source": [
    "knn = KNeighborsRegressor(n_neighbors=13)\n",
    "knn.fit(X_train,Y_train)\n",
    "Y_pred = knn.predict(X_test)\n",
    "Y_compare_knn = pd.DataFrame({'Actual': Y_test, 'Predicted': Y_pred})\n",
    "Y_compare_knn.head() #displaying the comparision btween actual and predicted values of MEDV"
   ]
  },
  {
   "cell_type": "markdown",
   "metadata": {
    "colab_type": "text",
    "id": "7XcRNfb6vkiJ"
   },
   "source": [
    "**Plotting compariasion of actual and predicted values of MEDV that we got using different machine learning models**"
   ]
  },
  {
   "cell_type": "code",
   "execution_count": 29,
   "metadata": {
    "colab": {
     "base_uri": "https://localhost:8080/",
     "height": 310
    },
    "colab_type": "code",
    "id": "FbfOubChHAyN",
    "outputId": "add81995-7330-4753-85c3-79c2a2e595ee"
   },
   "outputs": [
    {
     "data": {
      "image/png": "[encoded data removed]",
      "text/plain": [
       "<Figure size 1800x288 with 5 Axes>"
      ]
     },
     "metadata": {
      "needs_background": "light"
     },
     "output_type": "display_data"
    }
   ],
   "source": [
    "fig, ax = plt.subplots(ncols=5, nrows=1, figsize=(25, 4))\n",
    "ax = ax.flatten()\n",
    "Y_compare_linear.head(10).plot(kind='bar', title='Linear Regression', grid=True, ax=ax[0])\n",
    "Y_compare_poly.head(10).plot(kind='bar', title='Polynomial Regression', grid=True, ax=ax[1])\n",
    "Y_compare_svr.head(10).plot(kind='bar', title='Support Vector Regression', grid=True, ax=ax[2])\n",
    "Y_compare_randomforrest.head(10).plot(kind='bar', title='Random Forrest Regression', grid=True, ax=ax[3])\n",
    "Y_compare_knn.head(10).plot(kind='bar', title='KNN Regression', grid=True, ax=ax[4])\n",
    "plt.show()"
   ]
  },
  {
   "cell_type": "markdown",
   "metadata": {
    "colab_type": "text",
    "id": "e4QbhKJ5v4HC"
   },
   "source": [
    "**Scores (R squared) of different machine learning models using K-fold cross validation:**"
   ]
  },
  {
   "cell_type": "code",
   "execution_count": 30,
   "metadata": {
    "colab": {
     "base_uri": "https://localhost:8080/",
     "height": 119
    },
    "colab_type": "code",
    "id": "VB6jOr45HA6p",
    "outputId": "43be5dcd-3629-4a4c-9e58-9f4dffd05041"
   },
   "outputs": [
    {
     "name": "stdout",
     "output_type": "stream",
     "text": [
      "According to R squared scorring method we got below scores for out machine learning models:\n",
      "Accuracy of Linear Regression model is 0.51\n",
      "Accuracy of Polynomial Regression model is 0.64\n",
      "Accuracy of Support Vector Regression model is 0.50\n",
      "Accuracy of Random Forrest Regression model is 0.72\n",
      "Accuracy of K-Nearest Neighbour Regression model is 0.64\n"
     ]
    }
   ],
   "source": [
    "print('According to R squared scorring method we got below scores for out machine learning models:')\n",
    "modelNames = ['Linear', 'Polynomial', 'Support Vector', 'Random Forrest', 'K-Nearest Neighbour']\n",
    "modelRegressors = [linear, poly, svr, rf, knn]\n",
    "models = pd.DataFrame({'modelNames' : modelNames, 'modelRegressors' : modelRegressors})\n",
    "counter=0\n",
    "score=[]\n",
    "for i in models['modelRegressors']:\n",
    "  if i is poly:\n",
    "    accuracy = cvs(i, X_train_poly, Y_train, scoring='r2', cv=5)\n",
    "    print('Accuracy of %s Regression model is %.2f' %(models.iloc[counter,0],accuracy.mean()))\n",
    "    score.append(accuracy.mean())\n",
    "  else:\n",
    "    accuracy = cvs(i, X_train, Y_train, scoring='r2', cv=5)\n",
    "    print('Accuracy of %s Regression model is %.2f' %(models.iloc[counter,0],accuracy.mean()))\n",
    "    score.append(accuracy.mean())\n",
    "  counter+=1"
   ]
  },
  {
   "cell_type": "code",
   "execution_count": 31,
   "metadata": {
    "colab": {
     "base_uri": "https://localhost:8080/",
     "height": 444
    },
    "colab_type": "code",
    "id": "45pKlOgyHBXZ",
    "outputId": "d789bc2f-9c02-4248-f34a-0197a072d1e1"
   },
   "outputs": [
    {
     "data": {
      "image/png": "[encoded data removed]",
      "text/plain": [
       "<Figure size 1080x360 with 1 Axes>"
      ]
     },
     "metadata": {
      "needs_background": "light"
     },
     "output_type": "display_data"
    }
   ],
   "source": [
    "pd.DataFrame({'Model Name' : modelNames,'Score' : score}).sort_values(by='Score', ascending=True).plot(x=0, y=1, kind='bar', figsize=(15,5), title='Comparison of R2 scores of differnt models', )\n",
    "plt.show()"
   ]
  },
  {
   "cell_type": "markdown",
   "metadata": {
    "colab_type": "text",
    "id": "5GP7wm84wWiH"
   },
   "source": [
    "From the above visualiation we can summarise that Random Forrest (r2 = 0.72) machine learning model gives the best score and we can use it to predict the values of MEDV the best.\n",
    "\n",
    "However other models like Polynomial (r2 = 0.64) regression model and KNN (r2 = 0.64)regression model also have comparable score to Random Forrest and hence can also be used to make predictions of MEDV."
   ]
  },
  {
   "cell_type": "markdown",
   "metadata": {
    "colab_type": "text",
    "id": "bcG-CY9oxaGb"
   },
   "source": [
    "# **Final summary**\n",
    "\n",
    "**From above data engineering and machine learning techniques we can conclude that:**\n",
    "\n",
    "1.   Features RM, PTRATIO and LSAT are alone capable of predicting MEDV to a good accuracy\n",
    "2.   Random Forrest regression model (with 100 estimators) can be considered as a good model for predictiong MEDV using the above mentioned three features.\n",
    "3.   However Polynomial and KNN regression models can also be used as an alternative to Random Forrest.\n",
    "4.   Linear and Support Vector regression models shows the least r2 score, which can be considered bad models for predicting MEDV.\n",
    "\n"
   ]
  },
  {
   "cell_type": "markdown",
   "metadata": {},
   "source": []
  }
 ],
 "metadata": {
  "accelerator": "GPU",
  "colab": {
   "collapsed_sections": [],
   "name": "Boston Housing.ipynb",
   "provenance": []
  },
  "kaggle": {
   "accelerator": "none",
   "dataSources": [
    {
     "datasetId": 1815,
     "sourceId": 3139,
     "sourceType": "datasetVersion"
    }
   ],
   "dockerImageVersionId": 29844,
   "isGpuEnabled": false,
   "isInternetEnabled": false,
   "language": "python",
   "sourceType": "notebook"
  },
  "kernelspec": {
   "display_name": "Python 3 (ipykernel)",
   "language": "python",
   "name": "python3"
  },
  "language_info": {
   "codemirror_mode": {
    "name": "ipython",
    "version": 3
   },
   "file_extension": ".py",
   "mimetype": "text/x-python",
   "name": "python",
   "nbconvert_exporter": "python",
   "pygments_lexer": "ipython3",
   "version": "3.9.7"
  }
 },
 "nbformat": 4,
 "nbformat_minor": 4
}
